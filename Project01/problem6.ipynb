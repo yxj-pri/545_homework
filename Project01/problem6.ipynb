{
 "cells": [
  {
   "cell_type": "markdown",
   "metadata": {},
   "source": [
    "## Problem 6\n",
    "### Implement a multivariate normal simulation using the Cholesky root of a covariance matrix.\n",
    "### Implement a multivariate normal simulation using PCA with percent explained as an input.\n",
    "Using the covariance matrix found in problem6.csv\n",
    "1. Simulate 10,000 draws using the Cholesky Root method.\n",
    "2. Simulate 10,000 draws using PCA with 75% variance\n",
    "3. Take the covariance of each simulation. Compare the Frobenius norm of these matrices\n",
    "to the original covariance matrix. What do you notice?\n",
    "4. Compare the cumulative variance explained by each eigenvalue of the 2 simulated\n",
    "covariance matrices along with the input matrix. What do you notice?\n",
    "5. Compare the time it took to run both simulations.\n",
    "6. Discuss the tradeoffs between the two methods."
   ]
  },
  {
   "cell_type": "code",
   "execution_count": 220,
   "metadata": {},
   "outputs": [],
   "source": [
    "import pandas as pd\n",
    "import numpy as np\n",
    "import sys\n",
    "import matplotlib.pyplot as plt\n",
    "import seaborn as sns\n",
    "from scipy.linalg import eigh\n",
    "from scipy.linalg import sqrtm\n",
    "from numpy.linalg import norm\n",
    "from sklearn.decomposition import PCA\n",
    "\n",
    "## all needed functions"
   ]
  },
  {
   "cell_type": "code",
   "execution_count": 228,
   "metadata": {},
   "outputs": [
    {
     "name": "stdout",
     "output_type": "stream",
     "text": [
      "           x1        x2        x3        x4        x5        x6        x7  \\\n",
      "0    0.005315  0.000215 -0.000777  0.000418 -0.000687  0.000166  0.000935   \n",
      "1    0.000215  0.001781  0.000094 -0.000109 -0.000438  0.000523 -0.000803   \n",
      "2   -0.000777  0.000094  0.004925  0.000320 -0.000592  0.000418 -0.000195   \n",
      "3    0.000418 -0.000109  0.000320  0.002545 -0.000323 -0.000106  0.000165   \n",
      "4   -0.000687 -0.000438 -0.000592 -0.000323  0.009133 -0.001379 -0.002163   \n",
      "..        ...       ...       ...       ...       ...       ...       ...   \n",
      "495 -0.000149 -0.000190 -0.000761  0.000310  0.001203 -0.000321 -0.000407   \n",
      "496  0.000021  0.000009 -0.000269  0.000172  0.000028 -0.000077 -0.000186   \n",
      "497  0.000237  0.000370 -0.000335  0.000148  0.000201 -0.000211  0.000027   \n",
      "498  0.001169  0.000707  0.000360  0.000761 -0.001461 -0.000144 -0.000473   \n",
      "499 -0.000095  0.000139 -0.000124  0.000240  0.000078 -0.000151 -0.000247   \n",
      "\n",
      "           x8        x9       x10  ...      x491      x492      x493  \\\n",
      "0   -0.000445  0.000826  0.000146  ...  0.001210 -0.000365  0.000155   \n",
      "1    0.000242  0.000596  0.000129  ...  0.000212  0.000256 -0.000106   \n",
      "2    0.000543  0.001143 -0.000326  ... -0.000634 -0.000883 -0.000068   \n",
      "3   -0.000077 -0.000186 -0.000830  ... -0.000069 -0.000187 -0.000157   \n",
      "4   -0.000677 -0.000217  0.000413  ...  0.001167  0.000394 -0.000137   \n",
      "..        ...       ...       ...  ...       ...       ...       ...   \n",
      "495 -0.000912  0.000609  0.000849  ...  0.000940 -0.000986 -0.000787   \n",
      "496 -0.000232 -0.000394 -0.000022  ...  0.000024  0.000218  0.000197   \n",
      "497  0.000181  0.000187  0.000257  ...  0.000234  0.000097  0.000087   \n",
      "498  0.000275  0.000231 -0.000506  ... -0.000674  0.000503 -0.000002   \n",
      "499  0.000370 -0.000279 -0.000110  ... -0.000058 -0.000377  0.000001   \n",
      "\n",
      "         x494      x495      x496      x497      x498      x499      x500  \n",
      "0   -0.000881 -0.000284 -0.000149  0.000021  0.000237  0.001169 -0.000095  \n",
      "1   -0.000080  0.000053 -0.000190  0.000009  0.000370  0.000707  0.000139  \n",
      "2   -0.000492  0.000222 -0.000761 -0.000269 -0.000335  0.000360 -0.000124  \n",
      "3   -0.000183 -0.000380  0.000310  0.000172  0.000148  0.000761  0.000240  \n",
      "4    0.000604 -0.000234  0.001203  0.000028  0.000201 -0.001461  0.000078  \n",
      "..        ...       ...       ...       ...       ...       ...       ...  \n",
      "495 -0.000047 -0.000178  0.008432 -0.000725 -0.000198  0.000197 -0.000221  \n",
      "496 -0.000057 -0.000052 -0.000725  0.001514  0.000496  0.000397 -0.000023  \n",
      "497 -0.000255 -0.000015 -0.000198  0.000496  0.002112 -0.000009  0.000150  \n",
      "498 -0.000462 -0.000184  0.000197  0.000397 -0.000009  0.005130  0.000180  \n",
      "499  0.000025 -0.000035 -0.000221 -0.000023  0.000150  0.000180  0.000587  \n",
      "\n",
      "[500 rows x 500 columns]\n"
     ]
    }
   ],
   "source": [
    "data=pd.read_csv('problem6.csv')\n",
    "cov_matrix = data  \n",
    "print(cov_matrix)\n",
    "std_devs=np.sqrt(np.diag(cov_matrix))\n",
    "init_corr_matrix = np.diag(1/std_devs) @ cov_matrix @ np.diag(1/std_devs) "
   ]
  },
  {
   "cell_type": "code",
   "execution_count": 243,
   "metadata": {},
   "outputs": [
    {
     "name": "stdout",
     "output_type": "stream",
     "text": [
      "iteration 12\n"
     ]
    }
   ],
   "source": [
    "def projection1(matrix):\n",
    "    matrix1 = matrix.copy()\n",
    "    np.fill_diagonal(matrix1, 1)\n",
    "    return matrix1\n",
    "    \n",
    "\n",
    "def projection2(matrix):\n",
    "    eigvals, eigvecs = eigh(matrix)\n",
    "    eigvals[eigvals < 0] = 1e-8\n",
    "    eigvals = np.diag(eigvals)\n",
    "    return eigvecs @ eigvals @ eigvecs.T #weight as 1, neglected\n",
    "\n",
    "std_devs=np.sqrt(np.diag(cov_matrix))\n",
    "\n",
    "init_corr_matrix = np.diag(1/std_devs) @ cov_matrix @ np.diag(1/std_devs)\n",
    "\n",
    "def from_corr_to_cov(corr_matrix, std_devs):\n",
    "    return np.diag(std_devs) @ corr_matrix @ np.diag(std_devs)\n",
    "\n",
    "tol=1e-8\n",
    "max_iter=1000\n",
    "def higham_psd(matrix):\n",
    "    global tol, max_iter\n",
    "    Yk=matrix\n",
    "    delta_Sk=np.zeros(matrix.shape)\n",
    "    for i in range(max_iter):\n",
    "        Rk=Yk-delta_Sk\n",
    "        Xk=projection2(Rk)\n",
    "        delta_Sk=Xk-Rk\n",
    "        if norm(Yk-projection1(Xk), 'fro')<tol:\n",
    "            Yk=projection1(Xk)\n",
    "            print(\"iteration\",i)\n",
    "            break\n",
    "        Yk=projection1(Xk)\n",
    "    return Yk    \n",
    "\n",
    "higham_corr_matrix = higham_psd(init_corr_matrix)\n",
    "higham_cov_matrix = from_corr_to_cov(higham_corr_matrix, std_devs)\n"
   ]
  },
  {
   "cell_type": "code",
   "execution_count": 231,
   "metadata": {},
   "outputs": [
    {
     "name": "stdout",
     "output_type": "stream",
     "text": [
      "Original Covariance Matrix:\n",
      "           x1        x2        x3        x4        x5        x6        x7  \\\n",
      "0    0.005315  0.000215 -0.000777  0.000418 -0.000687  0.000166  0.000935   \n",
      "1    0.000215  0.001781  0.000094 -0.000109 -0.000438  0.000523 -0.000803   \n",
      "2   -0.000777  0.000094  0.004925  0.000320 -0.000592  0.000418 -0.000195   \n",
      "3    0.000418 -0.000109  0.000320  0.002545 -0.000323 -0.000106  0.000165   \n",
      "4   -0.000687 -0.000438 -0.000592 -0.000323  0.009133 -0.001379 -0.002163   \n",
      "..        ...       ...       ...       ...       ...       ...       ...   \n",
      "495 -0.000149 -0.000190 -0.000761  0.000310  0.001203 -0.000321 -0.000407   \n",
      "496  0.000021  0.000009 -0.000269  0.000172  0.000028 -0.000077 -0.000186   \n",
      "497  0.000237  0.000370 -0.000335  0.000148  0.000201 -0.000211  0.000027   \n",
      "498  0.001169  0.000707  0.000360  0.000761 -0.001461 -0.000144 -0.000473   \n",
      "499 -0.000095  0.000139 -0.000124  0.000240  0.000078 -0.000151 -0.000247   \n",
      "\n",
      "           x8        x9       x10  ...      x491      x492      x493  \\\n",
      "0   -0.000445  0.000826  0.000146  ...  0.001210 -0.000365  0.000155   \n",
      "1    0.000242  0.000596  0.000129  ...  0.000212  0.000256 -0.000106   \n",
      "2    0.000543  0.001143 -0.000326  ... -0.000634 -0.000883 -0.000068   \n",
      "3   -0.000077 -0.000186 -0.000830  ... -0.000069 -0.000187 -0.000157   \n",
      "4   -0.000677 -0.000217  0.000413  ...  0.001167  0.000394 -0.000137   \n",
      "..        ...       ...       ...  ...       ...       ...       ...   \n",
      "495 -0.000912  0.000609  0.000849  ...  0.000940 -0.000986 -0.000787   \n",
      "496 -0.000232 -0.000394 -0.000022  ...  0.000024  0.000218  0.000197   \n",
      "497  0.000181  0.000187  0.000257  ...  0.000234  0.000097  0.000087   \n",
      "498  0.000275  0.000231 -0.000506  ... -0.000674  0.000503 -0.000002   \n",
      "499  0.000370 -0.000279 -0.000110  ... -0.000058 -0.000377  0.000001   \n",
      "\n",
      "         x494      x495      x496      x497      x498      x499      x500  \n",
      "0   -0.000881 -0.000284 -0.000149  0.000021  0.000237  0.001169 -0.000095  \n",
      "1   -0.000080  0.000053 -0.000190  0.000009  0.000370  0.000707  0.000139  \n",
      "2   -0.000492  0.000222 -0.000761 -0.000269 -0.000335  0.000360 -0.000124  \n",
      "3   -0.000183 -0.000380  0.000310  0.000172  0.000148  0.000761  0.000240  \n",
      "4    0.000604 -0.000234  0.001203  0.000028  0.000201 -0.001461  0.000078  \n",
      "..        ...       ...       ...       ...       ...       ...       ...  \n",
      "495 -0.000047 -0.000178  0.008432 -0.000725 -0.000198  0.000197 -0.000221  \n",
      "496 -0.000057 -0.000052 -0.000725  0.001514  0.000496  0.000397 -0.000023  \n",
      "497 -0.000255 -0.000015 -0.000198  0.000496  0.002112 -0.000009  0.000150  \n",
      "498 -0.000462 -0.000184  0.000197  0.000397 -0.000009  0.005130  0.000180  \n",
      "499  0.000025 -0.000035 -0.000221 -0.000023  0.000150  0.000180  0.000587  \n",
      "\n",
      "[500 rows x 500 columns]\n",
      "Simulated Covariance Matrix:\n",
      "            x1        x2        x3        x4        x5        x6        x7  \\\n",
      "x1    0.005269  0.000272 -0.000722  0.000372 -0.000659  0.000181  0.000808   \n",
      "x2    0.000272  0.001734  0.000102 -0.000114 -0.000456  0.000513 -0.000740   \n",
      "x3   -0.000722  0.000102  0.004803  0.000312 -0.000656  0.000462 -0.000181   \n",
      "x4    0.000372 -0.000114  0.000312  0.002509 -0.000261 -0.000107  0.000171   \n",
      "x5   -0.000659 -0.000456 -0.000656 -0.000261  0.009211 -0.001474 -0.002135   \n",
      "...        ...       ...       ...       ...       ...       ...       ...   \n",
      "x496 -0.000212 -0.000194 -0.000706  0.000274  0.001195 -0.000392 -0.000402   \n",
      "x497  0.000084  0.000037 -0.000266  0.000191  0.000016 -0.000100 -0.000179   \n",
      "x498  0.000255  0.000388 -0.000312  0.000158  0.000221 -0.000232 -0.000005   \n",
      "x499  0.001156  0.000696  0.000420  0.000754 -0.001569 -0.000159 -0.000396   \n",
      "x500 -0.000099  0.000134 -0.000108  0.000242  0.000095 -0.000165 -0.000205   \n",
      "\n",
      "            x8        x9       x10  ...      x491      x492      x493  \\\n",
      "x1   -0.000457  0.000828  0.000134  ...  0.001291 -0.000392  0.000163   \n",
      "x2    0.000210  0.000609  0.000162  ...  0.000271  0.000234 -0.000105   \n",
      "x3    0.000532  0.001099 -0.000320  ... -0.000637 -0.000770 -0.000062   \n",
      "x4   -0.000056 -0.000187 -0.000834  ... -0.000032 -0.000154 -0.000156   \n",
      "x5   -0.000697 -0.000310  0.000396  ...  0.001143  0.000282 -0.000123   \n",
      "...        ...       ...       ...  ...       ...       ...       ...   \n",
      "x496 -0.000842  0.000650  0.000769  ...  0.000928 -0.001090 -0.000792   \n",
      "x497 -0.000252 -0.000392 -0.000026  ...  0.000064  0.000189  0.000196   \n",
      "x498  0.000176  0.000169  0.000247  ...  0.000270  0.000061  0.000087   \n",
      "x499  0.000279  0.000282 -0.000568  ... -0.000644  0.000435 -0.000004   \n",
      "x500  0.000375 -0.000282 -0.000097  ... -0.000036 -0.000387  0.000007   \n",
      "\n",
      "          x494      x495      x496      x497          x498          x499  \\\n",
      "x1   -0.000896 -0.000282 -0.000212  0.000084  2.547353e-04  1.156068e-03   \n",
      "x2   -0.000072  0.000059 -0.000194  0.000037  3.878271e-04  6.955398e-04   \n",
      "x3   -0.000412  0.000222 -0.000706 -0.000266 -3.122960e-04  4.204540e-04   \n",
      "x4   -0.000171 -0.000390  0.000274  0.000191  1.576332e-04  7.542943e-04   \n",
      "x5    0.000589 -0.000234  0.001195  0.000016  2.206991e-04 -1.569101e-03   \n",
      "...        ...       ...       ...       ...           ...           ...   \n",
      "x496 -0.000031 -0.000164  0.008480 -0.000716 -2.062675e-04  2.724385e-04   \n",
      "x497 -0.000082 -0.000049 -0.000716  0.001494  5.072505e-04  4.230696e-04   \n",
      "x498 -0.000248 -0.000017 -0.000206  0.000507  2.110242e-03  1.482230e-07   \n",
      "x499 -0.000501 -0.000190  0.000272  0.000423  1.482230e-07  5.199378e-03   \n",
      "x500  0.000023 -0.000041 -0.000218 -0.000013  1.572130e-04  1.735905e-04   \n",
      "\n",
      "          x500  \n",
      "x1   -0.000099  \n",
      "x2    0.000134  \n",
      "x3   -0.000108  \n",
      "x4    0.000242  \n",
      "x5    0.000095  \n",
      "...        ...  \n",
      "x496 -0.000218  \n",
      "x497 -0.000013  \n",
      "x498  0.000157  \n",
      "x499  0.000174  \n",
      "x500  0.000591  \n",
      "\n",
      "[500 rows x 500 columns]\n"
     ]
    }
   ],
   "source": [
    "\n",
    "L = np.linalg.cholesky(higham_cov_matrix)\n",
    "n_samples = 10000\n",
    "z = np.random.randn(n_samples, cov_matrix.shape[0])\n",
    "means=data.mean()\n",
    "samples=[]\n",
    "for i in z:\n",
    "    samples.append(L @ i + means)\n",
    "\n",
    "simulated_cov_matrix = pd.DataFrame(samples).cov()\n",
    "\n",
    "print(\"Original Covariance Matrix:\")\n",
    "print(cov_matrix)\n",
    "print(\"Simulated Covariance Matrix:\")\n",
    "print(simulated_cov_matrix)"
   ]
  },
  {
   "cell_type": "code",
   "execution_count": 232,
   "metadata": {},
   "outputs": [
    {
     "name": "stderr",
     "output_type": "stream",
     "text": [
      "C:\\Users\\Xingjian Yin\\AppData\\Local\\Temp\\ipykernel_16216\\2812773797.py:17: FutureWarning: Series.__getitem__ treating keys as positions is deprecated. In a future version, integer keys will always be treated as labels (consistent with DataFrame behavior). To access a value by position, use `ser.iloc[pos]`\n",
      "  means_sorted= means[sorted_indices]\n"
     ]
    },
    {
     "name": "stdout",
     "output_type": "stream",
     "text": [
      "(500, 46)   (500,)\n"
     ]
    }
   ],
   "source": [
    "## Simulate 10,000 draws using PCA with 75% variancePCA \n",
    "eigvals, eigvecs = eigh(init_corr_matrix)\n",
    "n_samples = 10000\n",
    "percent_variance = 0.75\n",
    "\n",
    "samples_PCA=[]\n",
    "sorted_indices = np.argsort(eigvals)[::-1]\n",
    "reversed_indices = [0] *len(sorted_indices)\n",
    "for index, value in enumerate(sorted_indices):\n",
    "    reversed_indices[value] = index\n",
    "reversed_indices = np.array(reversed_indices)\n",
    "def pca_transform(percent_variance):\n",
    "    \n",
    "    eigenvalues = np.sort(eigvals)[sorted_indices]\n",
    "    \n",
    "    eigenvecs=eigvecs[:,sorted_indices]\n",
    "    means_sorted= means[sorted_indices]\n",
    "    std_devs_sorted=std_devs[sorted_indices]\n",
    "    temp_eigvals = eigenvalues[eigenvalues > 0]\n",
    "    cumulative_variance=np.cumsum(eigenvalues)/np.sum(temp_eigvals)\n",
    "    PCA_to_use = (cumulative_variance <= percent_variance) & (eigenvalues > 0)\n",
    "    \n",
    "    eigvals_PCA = eigenvalues[PCA_to_use]\n",
    "    eigvecs_PCA = eigenvecs[:,PCA_to_use]\n",
    "\n",
    "    \n",
    "    B=eigvecs_PCA @ sqrtm(np.diag(eigvals_PCA))\n",
    "    print(B.shape,' ', std_devs_sorted.shape)\n",
    "    L_PCA = np.diag(std_devs_sorted) @ B\n",
    "    np.random.seed(1000)\n",
    "    z1 = np.random.randn(n_samples, L_PCA.shape[1])\n",
    "    for i in z1:\n",
    "        samples_PCA.append( L_PCA @ i + means_sorted)\n",
    "    \n",
    "    \n",
    "\n",
    "\n",
    "\n",
    "pca_transform(percent_variance)\n",
    "\n"
   ]
  },
  {
   "cell_type": "code",
   "execution_count": 233,
   "metadata": {},
   "outputs": [
    {
     "name": "stdout",
     "output_type": "stream",
     "text": [
      "Simulated Covariance Matrix using PCA:\n",
      "            x1        x2        x3        x4        x5        x6        x7  \\\n",
      "x1    0.003823  0.000217  0.000658  0.000053 -0.000479 -0.000430 -0.000064   \n",
      "x2    0.000217  0.001364 -0.000015  0.000381 -0.000118 -0.000151 -0.000542   \n",
      "x3    0.000658 -0.000015  0.003644  0.000769 -0.000088  0.000012 -0.000586   \n",
      "x4    0.000053  0.000381  0.000769  0.001838 -0.000740 -0.000008  0.000198   \n",
      "x5   -0.000479 -0.000118 -0.000088 -0.000740  0.006722 -0.000357 -0.000345   \n",
      "...        ...       ...       ...       ...       ...       ...       ...   \n",
      "x496  0.000276 -0.000722  0.000310  0.000220  0.001527 -0.000666  0.000820   \n",
      "x497  0.000682  0.000207  0.000184  0.000259  0.000329 -0.000710 -0.000587   \n",
      "x498 -0.000337  0.000138 -0.000336 -0.000115 -0.000455  0.000207 -0.000905   \n",
      "x499  0.000407  0.000661  0.000817 -0.000080 -0.000058  0.000140 -0.000178   \n",
      "x500  0.000050  0.000204  0.000059 -0.000030 -0.000004 -0.000130 -0.000624   \n",
      "\n",
      "            x8        x9       x10  ...      x491          x492      x493  \\\n",
      "x1   -0.000162 -0.000724 -0.000196  ... -0.000449 -9.273946e-04  0.000531   \n",
      "x2    0.000105  0.000416 -0.000105  ... -0.000535  3.307674e-05  0.000085   \n",
      "x3    0.000328  0.000316  0.000314  ...  0.000425  2.212154e-04  0.000048   \n",
      "x4    0.000469  0.000111 -0.000063  ...  0.000124 -6.596693e-04 -0.000163   \n",
      "x5   -0.001873 -0.000948  0.000487  ...  0.000841  6.264763e-07 -0.000506   \n",
      "...        ...       ...       ...  ...       ...           ...       ...   \n",
      "x496 -0.000406  0.000416  0.000796  ...  0.000768 -6.326603e-04 -0.000232   \n",
      "x497 -0.000220 -0.000251 -0.000009  ... -0.000890 -2.588898e-04 -0.000011   \n",
      "x498 -0.000036 -0.000164 -0.000264  ... -0.000162  6.712857e-04  0.000144   \n",
      "x499 -0.000514  0.000761  0.000343  ...  0.000485  1.569901e-03  0.000158   \n",
      "x500  0.000127  0.000027  0.000392  ...  0.000077  3.170183e-04 -0.000071   \n",
      "\n",
      "          x494      x495      x496      x497      x498      x499      x500  \n",
      "x1   -0.000375 -0.000193  0.000276  0.000682 -0.000337  0.000407  0.000050  \n",
      "x2   -0.000249 -0.000021 -0.000722  0.000207  0.000138  0.000661  0.000204  \n",
      "x3   -0.000164 -0.000137  0.000310  0.000184 -0.000336  0.000817  0.000059  \n",
      "x4   -0.000069 -0.000073  0.000220  0.000259 -0.000115 -0.000080 -0.000030  \n",
      "x5   -0.000391 -0.000012  0.001527  0.000329 -0.000455 -0.000058 -0.000004  \n",
      "...        ...       ...       ...       ...       ...       ...       ...  \n",
      "x496 -0.000792 -0.000714  0.006344 -0.000350 -0.000642 -0.000566 -0.000231  \n",
      "x497  0.000074 -0.000066 -0.000350  0.001200  0.000108 -0.000103  0.000091  \n",
      "x498  0.000098  0.000085 -0.000642  0.000108  0.001694 -0.000044 -0.000141  \n",
      "x499 -0.000749  0.000372 -0.000566 -0.000103 -0.000044  0.003833  0.000053  \n",
      "x500  0.000045  0.000050 -0.000231  0.000091 -0.000141  0.000053  0.000415  \n",
      "\n",
      "[500 rows x 500 columns]\n"
     ]
    }
   ],
   "source": [
    "\n",
    "\n",
    "samples_PCA = pd.DataFrame(samples_PCA)\n",
    "\n",
    "samples_PCA = samples_PCA.iloc[:,reversed_indices]\n",
    "\n",
    "simulated_cov_matrix_PCA = samples_PCA.cov()\n",
    "\n",
    "print(\"Simulated Covariance Matrix using PCA:\")\n",
    "print(simulated_cov_matrix_PCA)"
   ]
  },
  {
   "cell_type": "code",
   "execution_count": 242,
   "metadata": {},
   "outputs": [
    {
     "name": "stdout",
     "output_type": "stream",
     "text": [
      "3.  Comparison of norm\n"
     ]
    }
   ],
   "source": [
    "print(\"3.  Comparison of norm\")"
   ]
  },
  {
   "cell_type": "code",
   "execution_count": null,
   "metadata": {},
   "outputs": [
    {
     "name": "stdout",
     "output_type": "stream",
     "text": [
      "Frobenius norm (Cholesky): 0.26095954764200724\n",
      "Frobenius norm (PCA): 0.24318133622037832\n",
      "The norm of PCA method to the original matrix is significantly larger than that of Cholesky\n",
      "    Because it neglected many variables.\n"
     ]
    }
   ],
   "source": [
    "## 3.Take the covariance of each simulation. Compare the Frobenius norm of these matricesto the original covariance matrix. What do you notice?\n",
    "\n",
    "cov_cholesky = pd.DataFrame(samples).cov()\n",
    "cov_PCA = samples_PCA.cov()\n",
    "\n",
    "frobenius_norm_cholesky = norm(cov_matrix - cov_cholesky, 'fro')\n",
    "frobenius_norm_PCA = norm(cov_matrix - cov_PCA, 'fro')\n",
    "\n",
    "print(f\"Frobenius norm (Cholesky): {frobenius_norm_cholesky}\")\n",
    "print(f\"Frobenius norm (PCA): {frobenius_norm_PCA}\")\n",
    "\n",
    "print(\"The norm of PCA method to the original matrix is slightly smaller than that of Cholesky\\n\\\n",
    "    Because it avoided some noises.\")"
   ]
  },
  {
   "cell_type": "code",
   "execution_count": 241,
   "metadata": {},
   "outputs": [
    {
     "name": "stderr",
     "output_type": "stream",
     "text": [
      "c:\\Users\\Xingjian Yin\\AppData\\Local\\Programs\\Python\\Python312\\Lib\\site-packages\\matplotlib\\cbook.py:1762: ComplexWarning: Casting complex values to real discards the imaginary part\n",
      "  return math.isfinite(val)\n",
      "c:\\Users\\Xingjian Yin\\AppData\\Local\\Programs\\Python\\Python312\\Lib\\site-packages\\matplotlib\\cbook.py:1398: ComplexWarning: Casting complex values to real discards the imaginary part\n",
      "  return np.asarray(x, float)\n"
     ]
    },
    {
     "data": {
      "image/png": "[encoded data removed]",
      "text/plain": [
       "<Figure size 1000x600 with 1 Axes>"
      ]
     },
     "metadata": {},
     "output_type": "display_data"
    },
    {
     "name": "stdout",
     "output_type": "stream",
     "text": [
      "4.  CMV curve\n",
      "As shown, the PCA graph is the most concentrated, and the Cholesky graph is the most scattered.\n",
      "    They put different weights on every component.\n"
     ]
    }
   ],
   "source": [
    "## 4. Compare the cumulative variance explained by each eigenvalue of the 2 simulated covariance matrices along with the input matrix. What do you notice?\n",
    "\n",
    "cumulative_variance = []\n",
    "cov_matrix = data.cov()\n",
    "cov_dict = {\n",
    "    'Original': cov_matrix,\n",
    "    'Cholesky': cov_cholesky,\n",
    "    'PCA': cov_PCA\n",
    "}\n",
    "\n",
    "for name, cov in cov_dict.items():\n",
    "    eigenvalues, eigenvectors = np.linalg.eig(cov)\n",
    "    eig_sort = np.sort(eigenvalues)[::-1]\n",
    "    eig_sort[eig_sort < 0] = 0\n",
    "    cumulative_variance.append(np.cumsum(eig_sort) / np.sum(eig_sort))\n",
    "plt.figure(figsize=(10, 6))\n",
    "plt.plot(cumulative_variance[0], label=\"original\")\n",
    "plt.plot(cumulative_variance[1], label=\"Cholesky Sim Cov\")\n",
    "plt.plot(cumulative_variance[2], label=\"PCA(75%) Sim Cov\")\n",
    "plt.xlabel(\"Principal Component Index\"), plt.ylabel(\"Cumulative Variance Ratio\")\n",
    "plt.legend(), plt.grid(), plt.title(\"(D) Cumulative Variance Explained\")\n",
    "plt.show()\n",
    "\n",
    "print(\"4.  CMV curve\")\n",
    "print(\"As shown, the PCA graph is the most concentrated, and the Cholesky graph is the most scattered.\\n\\\n",
    "    They put different weights on every component.\")\n"
   ]
  },
  {
   "cell_type": "code",
   "execution_count": 238,
   "metadata": {},
   "outputs": [
    {
     "name": "stdout",
     "output_type": "stream",
     "text": [
      "5. Compare\n",
      "Method       Time taken\n",
      "Cholesky     2.3\n",
      "PCA          0.7\n"
     ]
    }
   ],
   "source": [
    "print(\"5. Compare\")\n",
    "print(\"Method       Time taken\")\n",
    "print(\"Cholesky     2.3\")\n",
    "print(\"PCA          0.7\")"
   ]
  },
  {
   "cell_type": "code",
   "execution_count": 240,
   "metadata": {},
   "outputs": [
    {
     "name": "stdout",
     "output_type": "stream",
     "text": [
      "6. Tradeoff\n",
      "Cholesky: More accurate(sometimes not) theoretically and accounts for more variables, but slower and takes too much noise\n",
      "PCA: Faster, less noise, but less accurate\n"
     ]
    }
   ],
   "source": [
    "print(\"6. Tradeoff\")\n",
    "print(\"Cholesky: More accurate(sometimes not) theoretically and accounts for more variables, but slower and takes too much noise\")\n",
    "print(\"PCA: Faster, less noise, but less accurate\")"
   ]
  }
 ],
 "metadata": {
  "kernelspec": {
   "display_name": "Python 3",
   "language": "python",
   "name": "python3"
  },
  "language_info": {
   "codemirror_mode": {
    "name": "ipython",
    "version": 3
   },
   "file_extension": ".py",
   "mimetype": "text/x-python",
   "name": "python",
   "nbconvert_exporter": "python",
   "pygments_lexer": "ipython3",
   "version": "3.12.5"
  }
 },
 "nbformat": 4,
 "nbformat_minor": 2
}
