{
 "cells": [
  {
   "cell_type": "markdown",
   "id": "cd43826a-fd2e-45df-95a1-826681f3b457",
   "metadata": {},
   "source": [
    "## Problem 3\n",
    "You have a European Call option with the following parameters\n",
    "- Time to maturity: 3 months (0.25 years)\n",
    "- Call Price: \\$3.00\n",
    "- Stock Price: \\$31\n",
    "- Strike Price: \\$30\n",
    "- Risk Free Rate: 10%\n",
    "- No dividends are paid.\n",
    "1. Calculate the implied volatility\n",
    "2. Calculate the Delta, Vega, and Theta. Using this information, by approximately how\n",
    "much would the price of the option change is the implied volatility increased by 1%.\n",
    "Prove it.\n",
    "3. Calculate the price of the put using Generalized Black Scholes Merton. Does Put-Call\n",
    "Parity Hold?\n",
    "4. Given a portfolio of\n",
    "- a. 1 call\n",
    "- b. 1 put\n",
    "- c. 1 share of stock\n",
    "Assuming the stock’s return is normally distributed with an annual volatility of 25%, the\n",
    "expected annual return of the stock is 0%, there are 255 trading days in a year, and the implied volatility is constant. Calculate VaR and ES for a 20 trading day holding period, at alpha=5%\n",
    "using:\n",
    "- d. Delta Normal Approximation\n",
    "- e. Monte Carlo Simulation\n",
    "Hint: Don’t forget to include the option value decay in your calculations\n",
    "5. Discuss the differences between the 2 methods. Hint: graph the portfolio value vs the\n",
    "stock value and compare the assumptions between the 2 methods."
   ]
  },
  {
   "cell_type": "code",
   "execution_count": 3,
   "id": "f2fb87f0-6a4b-44ab-abb4-6c5be4143de2",
   "metadata": {},
   "outputs": [],
   "source": [
    "import numpy as np\n",
    "from scipy.stats import norm\n",
    "from scipy.optimize import brentq\n",
    "\n",
    "# Black-Scholes call option pricing formula\n",
    "def black_scholes_call(S, K, T, r, sigma):\n",
    "    d1 = (np.log(S / K) + (r + 0.5 * sigma ** 2) * T) / (sigma * np.sqrt(T))\n",
    "    d2 = d1 - sigma * np.sqrt(T)\n",
    "    call_price = S * norm.cdf(d1) - K * np.exp(-r * T) * norm.cdf(d2)\n",
    "    return call_price\n",
    "\n",
    "# implied volatility\n",
    "def implied_volatility(S, K, T, r, market_price):\n",
    "    def objective_function(sigma):\n",
    "        return black_scholes_call(S, K, T, r, sigma) - market_price\n",
    "    return brentq(objective_function, 1e-6, 1)\n",
    "\n",
    "# calculate option greeks\n",
    "def option_greeks(S, K, T, r, sigma):\n",
    "    d1 = (np.log(S / K) + (r + 0.5 * sigma ** 2) * T) / (sigma * np.sqrt(T))\n",
    "    d2 = d1 - sigma * np.sqrt(T)\n",
    "    delta = norm.cdf(d1)\n",
    "    vega = S * norm.pdf(d1) * np.sqrt(T)\n",
    "    theta = - (S * norm.pdf(d1) * sigma) / (2 * np.sqrt(T)) - r * K * np.exp(-r * T) * norm.cdf(d2)\n",
    "    return delta, vega, theta\n",
    "\n",
    "# parameters\n",
    "S = 31  \n",
    "K = 30 \n",
    "T = 0.25 \n",
    "r = 0.10  \n",
    "market_price = 3.00 \n",
    "\n"
   ]
  },
  {
   "cell_type": "code",
   "execution_count": 4,
   "id": "b4d5e704-6bd5-46e0-8f1d-4f94b9ec46c2",
   "metadata": {},
   "outputs": [
    {
     "name": "stdout",
     "output_type": "stream",
     "text": [
      "Implied volatility: 0.3351\n",
      "Delta: 0.6659\n",
      "Vega: 5.6407\n",
      "Theta: -5.5446\n",
      "Estimated price change: 0.0564\n",
      "Actual price change: 0.0565\n"
     ]
    }
   ],
   "source": [
    "sigma = implied_volatility(S, K, T, r, market_price)\n",
    "print(f\"Implied volatility: {sigma:.4f}\")\n",
    "\n",
    "delta, vega, theta = option_greeks(S, K, T, r, sigma)\n",
    "print(f\"Delta: {delta:.4f}\")\n",
    "print(f\"Vega: {vega:.4f}\")\n",
    "print(f\"Theta: {theta:.4f}\")\n",
    "\n",
    "\n",
    "volatility_change = 0.01\n",
    "price_change = vega * volatility_change\n",
    "sigma_increase = sigma + 0.01\n",
    "new_price = black_scholes_call(S, K, T, r, sigma_increase)\n",
    "price_change1 = new_price - market_price\n",
    "print(f\"Estimated price change: {price_change:.4f}\")\n",
    "print(f\"Actual price change: {price_change1:.4f}\")"
   ]
  },
  {
   "cell_type": "code",
   "execution_count": 5,
   "id": "9f9514bc",
   "metadata": {},
   "outputs": [
    {
     "name": "stdout",
     "output_type": "stream",
     "text": [
      "Put-Call Parity Holds!\n"
     ]
    }
   ],
   "source": [
    "def black_scholes_put(S, K, T, r, sigma):\n",
    "    d1 = (np.log(S / K) + (r + 0.5 * sigma ** 2) * T) / (sigma * np.sqrt(T))\n",
    "    d2 = d1 - sigma * np.sqrt(T)\n",
    "    put_price = K * np.exp(-r * T) * norm.cdf(-d2) - S * norm.cdf(-d1)\n",
    "    return put_price\n",
    "\n",
    "put_price = black_scholes_put(S, K, T, r, sigma)\n",
    "call_price = black_scholes_call(S, K, T, r, sigma)\n",
    "put_call_parity = call_price - put_price + K * np.exp(-r * T) - S\n",
    "\n",
    "if np.isclose(put_call_parity, 0, atol=1e-4):\n",
    "    print(\"Put-Call Parity Holds!\")\n",
    "else:\n",
    "    print(\"Put-Call Parity Does Not Hold!\")"
   ]
  },
  {
   "cell_type": "code",
   "execution_count": 36,
   "id": "bc938797",
   "metadata": {},
   "outputs": [
    {
     "name": "stdout",
     "output_type": "stream",
     "text": [
      "For Delta Normal VaR and ES\n",
      "VaR: 4.4441\n",
      "ES: 5.4104\n"
     ]
    }
   ],
   "source": [
    "## Delta Normal VaR and ES\n",
    "\n",
    "def put_option_greeks(S, K, T, r, sigma):\n",
    "    d1 = (np.log(S / K) + (r + 0.5 * sigma ** 2) * T) / (sigma * np.sqrt(T))\n",
    "    d2 = d1 - sigma * np.sqrt(T)\n",
    "    delta = -norm.cdf(-d1)\n",
    "    vega = S * norm.pdf(d1) * np.sqrt(T)\n",
    "    theta = - (S * norm.pdf(d1) * sigma) / (2 * np.sqrt(T)) + r * K * np.exp(-r * T) * norm.cdf(-d2)\n",
    "    return delta, vega, theta\n",
    "\n",
    "def black_scholes_put(S, K, T, r, sigma):\n",
    "    d1 = (np.log(S / K) + (r + 0.5 * sigma ** 2) * T) / (sigma * np.sqrt(T))\n",
    "    d2 = d1 - sigma * np.sqrt(T)\n",
    "    put_price = K * np.exp(-r * T) * norm.cdf(-d2) - S * norm.cdf(-d1)\n",
    "    return put_price\n",
    "\n",
    "put_price= black_scholes_put(S, K, T, r, sigma)\n",
    "call_delta, call_vega, call_theta = option_greeks(S, K, T, r, sigma)\n",
    "put_delta, put_vega, put_theta = put_option_greeks(S, K, T, r, sigma)\n",
    "portfolio_theta = call_theta + put_theta\n",
    "stock_delata = 1\n",
    "portfolio={'call':1, 'put':1 , 'stock': 1}\n",
    "current_price={'call':call_price, 'put':put_price, 'stock':S}\n",
    "portfolio_value_0=current_price['call']*portfolio['call']+current_price['put']*portfolio['put']+current_price['stock']*portfolio['stock']\n",
    "delta_return=current_price['stock']/portfolio_value_0*(put_delta+call_delta+stock_delata)\n",
    "annual_sigma=0.2\n",
    "trading_days=255\n",
    "holding_days=20\n",
    "period_sigma=annual_sigma*np.sqrt(holding_days/trading_days)\n",
    "delta_normal_sigma=np.sqrt(delta_return**2*period_sigma**2)\n",
    "mean_pnl=portfolio_theta*holding_days/trading_days\n",
    "VaR=-norm.ppf(0.05)*delta_normal_sigma*portfolio_value_0-mean_pnl\n",
    "ES=norm.pdf(norm.ppf(0.05),0,1)*delta_normal_sigma*portfolio_value_0/(0.05)-mean_pnl\n",
    "\n",
    "def delta_normal_value(curr_S,curr_T):\n",
    "    return portfolio_value_0 + portfolio_theta*curr_T/trading_days + (put_delta+call_delta+stock_delata)*(curr_S - S)\n",
    "\n",
    "print(f\"For Delta Normal VaR and ES\")\n",
    "print(f\"VaR: {VaR:.4f}\")\n",
    "print(f\"ES: {ES:.4f}\")\n",
    "\n",
    "\n",
    "\n"
   ]
  },
  {
   "cell_type": "code",
   "execution_count": null,
   "id": "68eda671",
   "metadata": {},
   "outputs": [],
   "source": [
    "## Monte Carlo simulation for VaR and ES\n",
    "n_samples = 2000\n",
    "n_days=20\n",
    "sigma_daily = annual_sigma / np.sqrt(255)\n",
    "np.random.seed(123)\n",
    "daily_returns=np.random.normal(0, sigma_daily, (n_samples, n_days))\n",
    "stock_prices=np.zeros_like(daily_returns)\n",
    "stock_prices[:,0]=S\n",
    "for i in range(1, n_days):\n",
    "    stock_prices[:,i]=stock_prices[:,i-1]*np.exp(daily_returns[:,i])\n",
    "call_prices=np.zeros_like(stock_prices)\n",
    "put_prices=np.zeros_like(stock_prices)\n",
    "for i in range(n_samples):\n",
    "    for j in range(n_days):\n",
    "        call_prices[i,j]=black_scholes_call(stock_prices[i,j], K, T-j/255, r, sigma)\n",
    "        put_prices[i,j]=black_scholes_put(stock_prices[i,j], K, T-j/255, r, sigma)\n",
    "portfolio_value=call_prices+put_prices+stock_prices\n",
    "all_values = portfolio_value.flatten()-portfolio_value_0\n",
    "\n"
   ]
  },
  {
   "cell_type": "code",
   "execution_count": 31,
   "id": "5bdbbca4",
   "metadata": {},
   "outputs": [
    {
     "name": "stdout",
     "output_type": "stream",
     "text": [
      "For Historical Simulation VaR and ES\n",
      "VaR: 2.6637\n",
      "ES: 3.2563\n"
     ]
    }
   ],
   "source": [
    "alpha = 0.05\n",
    "VaR = -np.percentile(all_values, alpha * 100)\n",
    "ES = -all_values[all_values <= -VaR].mean()\n",
    "print(f\"For Historical Simulation VaR and ES\")\n",
    "print(f\"VaR: {VaR:.4f}\")\n",
    "print(f\"ES: {ES:.4f}\")"
   ]
  },
  {
   "cell_type": "code",
   "execution_count": 47,
   "id": "45299b3e",
   "metadata": {},
   "outputs": [
    {
     "data": {
      "image/png": "[encoded data removed]",
      "text/plain": [
       "<Figure size 1000x600 with 1 Axes>"
      ]
     },
     "metadata": {},
     "output_type": "display_data"
    }
   ],
   "source": [
    "import matplotlib.pyplot as plt\n",
    "\n",
    "def plot_vs(holding_day):\n",
    "    stock_range = np.linspace(20, 40, 100)\n",
    "    portfolio_values = []\n",
    "\n",
    "    for stock_price in stock_range:\n",
    "        closest_index = np.abs(stock_prices[:, holding_day] - stock_price).argmin()\n",
    "        portfolio_values.append(portfolio_value[closest_index, -1])\n",
    "\n",
    "\n",
    "    delta_normal_values = [delta_normal_value(stock_price,holding_day) for stock_price in stock_range]\n",
    "\n",
    "    plt.figure(figsize=(10, 6))\n",
    "    plt.plot(stock_range, portfolio_values, label='Simulated Value')\n",
    "    plt.plot(stock_range, delta_normal_values, label='Delta Normal Value', linestyle='--')\n",
    "    plt.xlabel('Stock Price')\n",
    "    plt.ylabel('Portfolio Value')\n",
    "    plt.title(f'Portfolio Value vs Stock Price at  Day {holding_day + 1}')\n",
    "    plt.legend()\n",
    "    plt.grid(True)\n",
    "    plt.show()\n",
    "\n",
    "plot_vs(19)"
   ]
  }
 ],
 "metadata": {
  "kernelspec": {
   "display_name": "Python 3",
   "language": "python",
   "name": "python3"
  },
  "language_info": {
   "codemirror_mode": {
    "name": "ipython",
    "version": 3
   },
   "file_extension": ".py",
   "mimetype": "text/x-python",
   "name": "python",
   "nbconvert_exporter": "python",
   "pygments_lexer": "ipython3",
   "version": "3.12.5"
  }
 },
 "nbformat": 4,
 "nbformat_minor": 5
}
